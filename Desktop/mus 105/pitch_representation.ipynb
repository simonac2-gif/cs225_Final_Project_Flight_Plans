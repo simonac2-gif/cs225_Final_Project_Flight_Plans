{
 "cells": [
  {
   "cell_type": "markdown",
   "metadata": {},
   "source": [
    "# Pitch Representation in Music\n",
    "\n",
    "<img src=\"http://taube.web.illinois.edu/mus105/lectures/pitch_representation/images/pitagoras2.png\">\n",
    "    \n",
    "The concepts of pitch and music are fundamentally bound together. The Merriam-Webster dictionary defines music as:\n",
    "\n",
    "> The science or art of ordering tones or sounds in succession, in combination, and in temporal relationships to produce a composition having unity and continuity.\n",
    "\n",
    "The same dictionary defines pitch as:\n",
    "\n",
    ">  The property of a sound and especially a musical tone that is determined by the frequency of the waves producing it; the highness or lowness of sound. \n",
    "\n",
    "The overwhelming majority of instruments in western music are exceptionally good at producing clear pitches that are organized in a linear scale ranging from the instrument's lowest pitch to its highest. "
   ]
  },
  {
   "cell_type": "markdown",
   "metadata": {},
   "source": [
    "## Background\n",
    "\n",
    "One of the great achievements of Western Music is its development of standard tuning systems and scales.  Western tuning is said to originate with the mathmatician/musician Pythagoras of Samos (~580 BC)  who invented the Pythagoriean Scale, a scale ultimately derived from the *harmonic series*.\n",
    "\n",
    "### Modes of vibration\n",
    "\n",
    "Objects that are essentially one dimensional (e.g. strings and air columns) produce frequencies whose wavelengths fit exactly within the length of the medium. This image shows the first 7 *modes of vibration* of a string:\n",
    "\n",
    "<!-- ![Harmonic_series_string2.png](attachment:Harmonic_series_string2.png) -->\n",
    "\n",
    "<img src=\"http://taube.web.illinois.edu/mus105/lectures/pitch_representation/images/Harmonic_series_string2.png\">\n",
    "\n",
    "[Modes of Vibration Demo](http://zonalandeducation.com/mstm/physics/waves/standingWaves/standingWaves1/StandingWaves1.html)\n"
   ]
  },
  {
   "cell_type": "markdown",
   "metadata": {},
   "source": [
    "### The Harmonic Series\n",
    "\n",
    "The harmonic modes all vibrate simultaneously to produce a set of frequencies that are integer multiples of the fundamental (lowest) frequency. This set of frequencies is called the *harmonic series*.\n",
    "\n",
    "For example, if the first harmonic (the fundamental) oscillates at X cycles-per-second then the second harmonic oscillates at 2\\*X, the 3rd at 3\\*X, the fourth at 4\\*X, and so on. We can plot these frequencies on a musical staff for X = 32.70 Hz:\n",
    "\n",
    "<!-- ![Harmonic_Series.png](attachment:Harmonic_Series.png) -->\n",
    "\n",
    "<img src=\"http://taube.web.illinois.edu/mus105/lectures/pitch_representation/images/Harmonic_Series.png\">\n"
   ]
  },
  {
   "cell_type": "markdown",
   "metadata": {},
   "source": [
    "Its very easy to calculate the harmonic series for a given fundamental frequency:"
   ]
  },
  {
   "cell_type": "code",
   "execution_count": null,
   "metadata": {
    "scrolled": false
   },
   "outputs": [],
   "source": [
    "# the first eight harmonics of a string vibrating with a fundamental of 100 Hz \n",
    "\n",
    "X = 100\n",
    "\n",
    "[X * i for i in range(1,9)]"
   ]
  },
  {
   "cell_type": "markdown",
   "metadata": {},
   "source": [
    "### Intervals\n",
    "\n",
    "Looking at the harmonic series from a music theory perspective, we can observe that most of the intervals commonly used in western music appear within the first 8 harmonics and all of them except the tritone are within the first 16!\n",
    "\n",
    "<!-- ![Harmonic_series_intervals2.png](attachment:Harmonic_series_intervals2.png) -->\n",
    "\n",
    "<img src=\"http://taube.web.illinois.edu/mus105/lectures/pitch_representation/images/Harmonic_series_intervals2.png\">\n",
    "\n",
    "\n",
    "Note that the music theory concept of an interval is actually the ratio of *two* harmonic numbers, for example an octave is 2:1 (2/1), a perfect fifth is 3/2, a minor third is 6/5. \n",
    "\n",
    "Intervals exist between *any* two harmonics, not just adjacent ones. For example 7/4 is the ratio of the septimal seventh, and the ratio 7/6 is the blues third, whose size is slightly smaller than a minor third. Ratios can also be formed in descending order, e.g 2/3 represents a perfect fifth down."
   ]
  },
  {
   "cell_type": "code",
   "execution_count": null,
   "metadata": {
    "scrolled": true
   },
   "outputs": [],
   "source": [
    "# unison, perfect 5th, perfect 4th, major third, minor third, septimal third\n",
    "ints = [2/1, 3/2, 4/3, 5/4, 6/5, 7/6]\n",
    "print([220 * i for i in ints])"
   ]
  },
  {
   "cell_type": "code",
   "execution_count": null,
   "metadata": {},
   "outputs": [],
   "source": [
    "# descending\n",
    "ints = [1/2, 2/3, 3/4, 4/5, 5/6, 6/7]\n",
    "print([220 * i for i in ints])"
   ]
  },
  {
   "cell_type": "markdown",
   "metadata": {},
   "source": [
    "We can also start the series at any position. For example how would we create a scale based on 220Hz whose tonic (1/1) represents the 8th harmonic and whose octave is the 16th?"
   ]
  },
  {
   "cell_type": "code",
   "execution_count": null,
   "metadata": {},
   "outputs": [],
   "source": [
    "# define a scale whose tonic begins on 100 hz and whose interval \n",
    "# steps are the ratios of the 8th to 16th harmonics.\n",
    "\n",
    "[100 * (i / 8) for i in range(8, 17)]"
   ]
  },
  {
   "cell_type": "markdown",
   "metadata": {},
   "source": [
    "### The Just Major Scale\n",
    "\n",
    "The *just  scale* is a scale based on intervals of the harmonic series that \"best approximates\" the scale. For example the Just Major Scale is a scale that takes the intervals from the first 16 harmonics that best approximate the major mode:\n",
    "\n",
    "| Tonic | Supertonic | Mediant | Subdominant | Dominant | Submediant | Leadingtone | Tonic |\n",
    "|-------|------------|---------|-------------|----------|------------|-------------|-------|\n",
    "|  1/1  |     9/8    |   5/4   |     4/3     |    3/2   |     5/3    |     15/8    |  2/1  |\n",
    "\n",
    "This will sound nice but only if we form intervals with tonic.  For example, what happens if we start on D to make the Dorian mode? "
   ]
  },
  {
   "cell_type": "code",
   "execution_count": null,
   "metadata": {
    "scrolled": true
   },
   "outputs": [],
   "source": [
    "# the just fifth C-G\n",
    "print((3/2) / (1/1))\n",
    "# the fifth D-A\n",
    "print((5/3) / (9/8))"
   ]
  },
  {
   "cell_type": "markdown",
   "metadata": {},
   "source": [
    "Hmmm. Its flat! In this case when the 3/2 perfect fifth C-G changed to D to A or (5/3) / (9/8), this ratio is NOT 3/2! \n",
    "\n",
    "Let's try major seconds..."
   ]
  },
  {
   "cell_type": "code",
   "execution_count": null,
   "metadata": {},
   "outputs": [],
   "source": [
    "# compare the M2 in the just major scale with the dorian version\n",
    "print((9/8) / (1/1))\n",
    "print((5/4) / (9/8))"
   ]
  },
  {
   "cell_type": "markdown",
   "metadata": {},
   "source": [
    "This means that if we play the scale stepwise or with skips the sounds will not be just."
   ]
  },
  {
   "cell_type": "markdown",
   "metadata": {},
   "source": [
    "### The Pythagorean Scale\n",
    "\n",
    "Pythagoras did not create his scale this way. His strategy uses just one interval -- the perfect 5th, or 3/2 -- to generate 7 tones by 'stacking' 5ths and subtracting/adding to normalize the ratios so they all lie between 1/1 (the tonic) and 2/1 (the octave)."
   ]
  },
  {
   "cell_type": "code",
   "execution_count": null,
   "metadata": {
    "scrolled": false
   },
   "outputs": [],
   "source": [
    "def normalize(r):\n",
    "    if r > 2: \n",
    "        while r > 2: r /= 2\n",
    "    elif r < 1: \n",
    "        while r < 1: r *= 2\n",
    "    return r\n",
    "\n",
    "sorted([normalize( (3/2)**r) for r in range(-1,6)]) + [2.0]"
   ]
  },
  {
   "cell_type": "markdown",
   "metadata": {},
   "source": [
    "This sounds awesome if we play 5ths (ancient music) but what if we use other intervals?"
   ]
  },
  {
   "cell_type": "code",
   "execution_count": null,
   "metadata": {},
   "outputs": [],
   "source": [
    "# major 3rds too wide \n",
    "\n",
    "print(\"just M3\", 5/4, \"pyth M3\", 1.26525)"
   ]
  },
  {
   "cell_type": "code",
   "execution_count": null,
   "metadata": {},
   "outputs": [],
   "source": [
    "# minor 3rd too small\n",
    "\n",
    "print(\"just m3:\", 6/5, \", pyth m3:\", 1.3333333333333333 / 1.125)"
   ]
  },
  {
   "cell_type": "code",
   "execution_count": null,
   "metadata": {},
   "outputs": [],
   "source": [
    "# minor seconds too small\n",
    "\n",
    "print(\"just m2:\", 16/15, \", pyth m2:\", 1.3333333333333333/1.265625)\n"
   ]
  },
  {
   "cell_type": "markdown",
   "metadata": {},
   "source": [
    "The worst thing is that 3/2 fifths will never actually create a 'circle of 5ths', that is (3/2)\\**12 will not line up with the equivalent number of octaves so that it end up back on the original tonic note!"
   ]
  },
  {
   "cell_type": "code",
   "execution_count": null,
   "metadata": {
    "scrolled": true
   },
   "outputs": [],
   "source": [
    "# No cycle of just fifths!\n",
    "print(\"12 just 5ths:\", (3/2)**12, \", eight octaves:\", 2**7)"
   ]
  },
  {
   "cell_type": "markdown",
   "metadata": {},
   "source": [
    "This is true for any just interval, it cannot be used to generate a scale that ends up on an octave"
   ]
  },
  {
   "cell_type": "code",
   "execution_count": null,
   "metadata": {
    "scrolled": true
   },
   "outputs": [],
   "source": [
    "# No cycle of just major seconds:\n",
    "print(\"6 just M2's:\", (9/8)**6, \", 1 octave:\", 2)\n",
    "\n",
    "# No cycle of just minor seconds:\n",
    "print(\"12 just m2's:\", (16/15)**12, \", 1 octave:\", 2)\n",
    "\n",
    "# No cycle of just major 3rds\n",
    "print(\"3 just M3's:\", (5/4)**3, \", 1 octave:\", 2)\n",
    "\n",
    "# No cycle of just minor 3rds\n",
    "print(\"4 just m3's:\", (6/5)**4, \", 1 octave:\", 2)"
   ]
  },
  {
   "cell_type": "markdown",
   "metadata": {},
   "source": [
    "### The Central Tuning Problem\n",
    "\n",
    "It is mathematically impossible to construct a scale out of a natural (just) interval and still have just octaves as well. This dilemma was the source for many interesting and beautiful tuning systems developed over the centuries. All of these system are ingenious ways to distribute the \"error\" across the total gamut of the tuning's pitches so that we hear some perfectly just intervals and don't notice the errors in the others.\n",
    "\n",
    "Quarter Comma Mean Tone Tuning was very successful:  tune four 5ths a bit flat so that major thirds can be made perfect (5/4) and minor thirds almost perfect. The result was a tuning with sweet natural sounding thirds. But since the error was distibuted over 5ths, it meant the further out you went from those keys, the more those intervals were mistuned.\n",
    "\n",
    "<!-- ![Comparison-Principal-Tuning-Systems.jpg](attachment:Comparison-Principal-Tuning-Systems.jpg) -->\n",
    "\n",
    "<img src=\"http://taube.web.illinois.edu/mus105/lectures/pitch_representation/images/Comparison-Principal-Tuning-Systems.jpg\">"
   ]
  },
  {
   "cell_type": "markdown",
   "metadata": {},
   "source": [
    "### Twelve Tone Equal-Temperent (TET)\n",
    "\n",
    "TET-tuning is the product of over a thousand years of musical exploration by composers, performers and theorists.  Instead of trying to keep certain intervals 'just', TET tunes the smallest interval (half-step) to 1/12 of an octave so that 12 of them fit exactly within an octave. This means that in TET tuning **no** interval is 'just' except for the octave. This is a very different approach than all the earlier tuning systems! \n",
    "\n",
    "TET tuning creates a *scale* by assigning a pitch (A4) to the frequency 440 Hertz. Given the frequency of that one note, all the other frequencies in the scale can be derived by TET's simple mathematical formula.\n",
    "\n",
    "Because TET standardizes all intervals -- and hence notes -- pitch information can be viewed from a number of different perspectives and mapped (converted) between different but equivalent representations. Here is a list of different pitch information that we will be working with this semester.\n",
    "\n",
    "1. Hertz frequency, or cycles per second. For the purposes of MUS105 a hertz value is an integer or floating point number ranging from 0.0 to infinity. Examples: A440 is 440 Hz and middle C is 261.625 Hz.  \n",
    "\n",
    "2. Pitch names. A pitch name consists of three elements: a letter, an optional accidental, and an octave. For the purposes of MUS105 a pitch is a string whose letter is an upper or lower-case version of ('A', 'B', 'C', 'D', 'E', 'F', 'G'); an optional accidental double-flat ('bb' or 'ff'), flat ('b' or 'f'), natural (''), sharp ('#' or 's'), double-sharp ('##' or 'ss'); and an octave ('00', '0', '1', '2', '3', '4', '5', '6', '7', '8', '9'). Examples: A440 is 'A4' and middle C is 'C4'. The names 'B#3' and 'Dbb4' are enharmonic spellings of 'C4'. \n",
    "\n",
    "3. MIDI key numbers. For the purposes of MUS105, MIDI key numbers are integers ranging from 0 to 127 inclusive. Examples: A440 is MIDI key number 69 and middle C is key number 60.\n",
    "\n",
    "4. Pitch classes. PCs are integers ranging from 0 to 11. Each PC represents the ordinal position of a pitch in the TET scale without regard to octaves or pitch spelling.  Examples: PC 0 represents any key or pitch name that is some octave multiple of 'C': e.g. 60, 72, 'C3', 'C5', 'B#4', 'Dbb8',  and so on.\n",
    "\n",
    "5. Pitch class names. For the purposes of MUS105 these are pitch names without the octave: 'Bb', 'C', 'F#'.  Every pitch class name can be mapped to an integer pitch class."
   ]
  },
  {
   "cell_type": "markdown",
   "metadata": {},
   "source": [
    "<!-- ![keyboard.png](attachment:keyboard.png) -->\n",
    "\n",
    "<img src=\"http://taube.web.illinois.edu/mus105/lectures/pitch_representation/images/keyboard.png\">"
   ]
  },
  {
   "cell_type": "markdown",
   "metadata": {},
   "source": [
    "### Comments:\n",
    "- The acoustic piano provides 88 keys over seven full octaves, with three extra keys at the bottom (e.g. the top of an incomplete octave 0) and one extra key at the top (the start of an incomplete octave 8). \n",
    "- Full octaves start on C, so Middle C marks the beginning of octave 4.\n",
    "- Octave numbers change between B and C, so enharmonic notes involving B and C will have different octave numbers. For example, B#3 is the same physical key as C4, and the Cb4 is the same key as B3.\n",
    "- The keyboard pattern repeats at the octave because octaves sound like the 'same note' to us. We think of octaves as being the 'same pitch' because every harmonic of the higher note will align with a harmonic of the lower tone. In some sense, then, we only have 12 distinctly different notes and all the rest are octaves.  \n",
    "- Looking at the Hertz frequencies we can see that octaves are a power of 2: ascending octaves doubles the frequency and descending octaves halve the frequency. \n",
    "- MIDI defines 128 key numbers, from 0 to 127 thus spanning ten complete octaves plus seven extra keys of an eleventh octave. Middle C is key number 60, the start of the 4th octave on the piano, so MIDI octave are numbered -1 to 9 so that middle C remains the start of octave 4 in both systems. Since -1 seems like strange name for an octave the lowest octave is often named '00'.\n",
    "<table>\n",
    "    <tr><td>Piano:</td><td> </td><td> </td><td>1</td><td>2</td><td>3</td><td>4</td><td>5</td><td>6</td><td>7</td><td>(8)</td><td> </td></tr>\n",
    "<tr><td>MIDI:</td><td>00</td><td>0</td><td>1</td><td>2</td><td>3</td><td>4</td><td>5</td><td>6</td><td>7</td><td>8</td><td>9</td></tr>\n",
    "</table>\n",
    "While midi has 40 more notes than the piano, most of these extra notes are not musically viable. The reason that MIDI has more pitches has nothing to do with music, but is due to the numerical representation of notes in MIDI (more about this in the second half of the course.) For example, the lowest MIDI pitch (C00) is 8.275 Hz, well below the threshold of human hearing, which ranges from about 20 Hz to 20,000 Hz (and degrades towards the extremes).  The highest note on the piano is C8, which is also the top note of the piccolo, the highest instrument in western music. So the piano keyboard is still the best approximation for representing sounds that are musically viable for humans to perform and listen to."
   ]
  },
  {
   "cell_type": "markdown",
   "metadata": {},
   "source": [
    "### How It Works\n",
    "TET tuning is based on twelve equal divisions of the octave. An octave is a power of 2 doubling of a value."
   ]
  },
  {
   "cell_type": "code",
   "execution_count": null,
   "metadata": {},
   "outputs": [],
   "source": [
    "# Create a list of 4 ascending octave powers \n",
    "\n",
    "[2**x for x in range(5)]"
   ]
  },
  {
   "cell_type": "code",
   "execution_count": null,
   "metadata": {},
   "outputs": [],
   "source": [
    "# Create a list of 4 descending octave powers.\n",
    "\n",
    "[2**-x for x in range(5)]"
   ]
  },
  {
   "cell_type": "markdown",
   "metadata": {},
   "source": [
    "Scale the power series by a frequency to produce octave frequencies."
   ]
  },
  {
   "cell_type": "code",
   "execution_count": null,
   "metadata": {},
   "outputs": [],
   "source": [
    "#  Scale the power series by a frequency to produce \n",
    "# octave frequencies.\n",
    "\n",
    "print([440 * 2**x for x in range(5)])\n",
    "\n",
    "print([440 * 2**-x for x in range(5)])"
   ]
  },
  {
   "cell_type": "markdown",
   "metadata": {},
   "source": [
    "Fractional exponents will move by intervals smaller than an octave. "
   ]
  },
  {
   "cell_type": "code",
   "execution_count": null,
   "metadata": {
    "scrolled": true
   },
   "outputs": [],
   "source": [
    "# This example moves the exponent by .5 yielding 2 divisions per octave.\n",
    "\n",
    "print('fractional exponents:', [(i/2) for i in range(5)])\n",
    "\n",
    "[2**(i/2) for i in range(5)]"
   ]
  },
  {
   "cell_type": "code",
   "execution_count": null,
   "metadata": {},
   "outputs": [],
   "source": [
    "# The TET scale divides the octave by TWELVE divisions \n",
    "# per octave\n",
    "\n",
    "[2**(i/12) for i in range(13)]"
   ]
  },
  {
   "cell_type": "markdown",
   "metadata": {},
   "source": [
    "Mutiplying the series by a frequency gives us an equal tempered chromatic scale based on that frequency."
   ]
  },
  {
   "cell_type": "code",
   "execution_count": null,
   "metadata": {},
   "outputs": [],
   "source": [
    "[round(440 * 2**(i/12)) for i in range(13)]"
   ]
  },
  {
   "cell_type": "markdown",
   "metadata": {},
   "source": [
    "It's easy to create other ET scales this way too!"
   ]
  },
  {
   "cell_type": "code",
   "execution_count": null,
   "metadata": {
    "scrolled": true
   },
   "outputs": [],
   "source": [
    "# What is this scale?\n",
    "\n",
    "[round(220 * 2**(i/12)) for i in [0, 2, 4, 5, 7, 9, 11, 12]]"
   ]
  },
  {
   "cell_type": "code",
   "execution_count": null,
   "metadata": {},
   "outputs": [],
   "source": [
    "# What is this scale?\n",
    "\n",
    "[round(220 * 2**(i/12)) for i in [0, 2, 3, 5, 7, 8, 10, 12]]"
   ]
  },
  {
   "cell_type": "code",
   "execution_count": null,
   "metadata": {},
   "outputs": [],
   "source": [
    "# What is this scale?\n",
    "\n",
    "print([round(220 * 2**(i/7)) for i in range(0, 8)])\n",
    "print(2**(1/7))"
   ]
  },
  {
   "cell_type": "code",
   "execution_count": null,
   "metadata": {},
   "outputs": [],
   "source": [
    "# What is this scale?\n",
    "\n",
    "[round(220 * 3**(i/12)) for i in range(0, 8)]"
   ]
  },
  {
   "cell_type": "markdown",
   "metadata": {},
   "source": [
    "## MIDI key numbers"
   ]
  },
  {
   "cell_type": "markdown",
   "metadata": {},
   "source": [
    "There are 128 MIDI key numbers ranging from 0 to 127 inclusive. Each key number represents the ordinal position of a key on a virtual 128 key MIDI keyboard. By comparison, the lowest key on a piano is MIDI key number 21 and the highest is 108."
   ]
  },
  {
   "cell_type": "code",
   "execution_count": null,
   "metadata": {
    "scrolled": true
   },
   "outputs": [],
   "source": [
    "print([k for k in range(128)])"
   ]
  },
  {
   "cell_type": "markdown",
   "metadata": {},
   "source": [
    "There are 12 keys per octave, so an integer-divide of the key number by 12 will tell you what midi octave the key is in."
   ]
  },
  {
   "cell_type": "code",
   "execution_count": null,
   "metadata": {},
   "outputs": [],
   "source": [
    "# In Python3 // is integer divide.\n",
    "\n",
    "print([k % 12 for k in range(128)]) "
   ]
  },
  {
   "cell_type": "markdown",
   "metadata": {},
   "source": [
    "Similarly, dividing the key number mod 12 will tell you the step position of that key within its octave."
   ]
  },
  {
   "cell_type": "code",
   "execution_count": null,
   "metadata": {},
   "outputs": [],
   "source": [
    "print(set([k % 12 for k in range(128)]))  # In Python3 % is modulo divide."
   ]
  },
  {
   "cell_type": "code",
   "execution_count": null,
   "metadata": {},
   "outputs": [],
   "source": [
    "# This example moves the exponent by .5 yielding 2 \n",
    "# divisions per octave.\n",
    "\n",
    "print([divmod(k, 12) for k in range(128)])"
   ]
  },
  {
   "cell_type": "markdown",
   "metadata": {},
   "source": [
    "DAY 2\n",
    "### Converting MIDI Key Numbers to Pitch Classes\n",
    "\n",
    "A pitch class (pc) is the set of all pitches that are a whole number of octaves apart. Note that enharmonic pitch spellings will  reduce to the same pitch class. For example, the pitches C B# and Dbb are all enharmonic spellings of the same key they will all reduce to the pitch class 0 regarless of what octave they are in. As an example, the pitch class 0 stands for all possible C's, regardless of its octave. Enharmonic pitch spellings will all reduce to the same pitch class. For example, C B# and Dbb are all enharmonic spellings of the same physical key they so will all reduce to the same pitch class (0 in this case) regardless of what octave they are in.  \n",
    "\n",
    "Since there are 12 divisions per octave int the TET scale there are a total 12 pitch classes, numbered 0 to 11. \n",
    "\n",
    "To convert a MIDI key number to a pitch class simply divide the key number mod 12.  This example creates a pc set out of all 128 key numbers. The set will contain just 12 pitch classes from 0 to 11."
   ]
  },
  {
   "cell_type": "code",
   "execution_count": null,
   "metadata": {},
   "outputs": [],
   "source": [
    "set(k % 12 for k in range(128))"
   ]
  },
  {
   "cell_type": "markdown",
   "metadata": {},
   "source": [
    "### Converting MIDI Key Numbers to Octaves\n",
    "\n",
    "Midi key numbers can be converted to octave numbers by integer divide.\n",
    "Note, however, that raw midi octaves are not same as piano octaves because MIDI's octave 0 is one octave below the Piano's octave 0.\n",
    "\n",
    "For example, on the piano Middle-C is octave 4, in MIDI its octave 5. \n"
   ]
  },
  {
   "cell_type": "code",
   "execution_count": null,
   "metadata": {
    "scrolled": true
   },
   "outputs": [],
   "source": [
    "print([k // 12 for k in range(128)])\n",
    "\n",
    "60 // 12"
   ]
  },
  {
   "cell_type": "markdown",
   "metadata": {},
   "source": [
    "Since we want MIDI's Middle-C to 'agree' with the piano's Middle-C we  subtract 1 (so we have a -1 octave)."
   ]
  },
  {
   "cell_type": "code",
   "execution_count": null,
   "metadata": {
    "scrolled": true
   },
   "outputs": [],
   "source": [
    "print([(k, (k // 12)-1 ) for k in range(0, 61)])"
   ]
  },
  {
   "cell_type": "markdown",
   "metadata": {},
   "source": [
    "Since -1 octaves look a bit wierd, a more human-readable form double 0 form is used. This can be done by simply mapping octave numbers to octave string names\n"
   ]
  },
  {
   "cell_type": "code",
   "execution_count": null,
   "metadata": {},
   "outputs": [],
   "source": [
    "octave_names = ['00', '0', '1', '2', '3', '4', '5', '6', '7', '8', '9']\n",
    "print( [(k, octave_names[k // 12] ) for k in range(0, 61)] )    "
   ]
  },
  {
   "cell_type": "markdown",
   "metadata": {},
   "source": [
    "### Converting MIDI Key Numbers to Hertz\n",
    "\n",
    "Converting midi key numbers into hertz values is simple once you remember that key number 69 and 440\\*2<sup>0</sup> are equivalent: 440\\*2<sup>0</sup> = 440*1 = 440. This means that for each integer key number above 69, the hertz value must increase by increments of 1/12 of an octave and decrease by 1/12 of an octave for each keynum below 69:\n",
    "\n",
    "> hertz = 440 * 2<sup>(k-69)/12<sup>"
   ]
  },
  {
   "cell_type": "code",
   "execution_count": null,
   "metadata": {},
   "outputs": [],
   "source": [
    "# Chromatic scale of TET frequencies from C4 to C5:\n",
    "\n",
    "[440 * 2**((k-69)/12) for k in range(60, 73)]"
   ]
  },
  {
   "cell_type": "code",
   "execution_count": null,
   "metadata": {},
   "outputs": [],
   "source": [
    "# Frequency of the lowest and highest midi notes. These pitches are \n",
    "# not musically viable: the lowest cannot be heard by humans, the \n",
    "# highest (G10) is nearly two octaves above the highest note on the \n",
    "# piccolo and piano (C8) and within an octave of the highest pitch\n",
    "# possible for humans to hear.\n",
    "\n",
    "print(\"keynum 0 =\", 440 * 2**((0-69)/12))\n",
    "print(\"keynum 127 =\", 440 * 2**((127-69)/12))"
   ]
  },
  {
   "cell_type": "markdown",
   "metadata": {},
   "source": [
    "### Converting Hertz into MIDI Key Numbers\n",
    "\n",
    "To convert hertz into midi key numbers we reverse the process of the previous example and notice that when the hertz value is 440 then the key number must be 69 and as the frequency moves above 440, key numbers must increase by 12 per octave, and decrease by 12 per octave as frequency moves below 440:\n",
    "<!-- To reverse the process and convert hertz to MIDI key numbers we notice that when the hertz value is 440 then the key number produced must be 69: keynum = 69 + log2(440/440). Then, as the frequency moves above 440, key numbers should increase by 12 per octave, and decrease by 12 per octave as frequency moves below 440: -->\n",
    "\n",
    "> 69 + log2(hz/440) * 12"
   ]
  },
  {
   "cell_type": "code",
   "execution_count": null,
   "metadata": {
    "scrolled": true
   },
   "outputs": [],
   "source": [
    "# convert to hertz and back to midi keynums\n",
    "\n",
    "import math\n",
    "\n",
    "# 12-TET Chromatic scale\n",
    "hertz = [440 * 2**((k-69)/12) for k in range(60, 73)]\n",
    "\n",
    "print([69 + math.log2(h/440) * 12 for h in hertz])\n",
    "\n"
   ]
  },
  {
   "cell_type": "code",
   "execution_count": null,
   "metadata": {},
   "outputs": [],
   "source": [
    "# midi numbers are typically integers, but keeping fractional\n",
    "# values is useful in microtonality because the fraction can\n",
    "# be interpreted as CENTS. For example quarter tone chromatic\n",
    "# scale has 24 tones per octave, each one 50 cents apart.\n",
    "\n",
    "# 24-TET Chromatic scale\n",
    "from numpy import arange\n",
    "\n",
    "hertz = [440 * 2**((k-69)/24) for k in arange(60.0, 73.0, .5)]\n",
    "\n",
    "print([69 + math.log2(h/440) * 24 for h in hertz])\n"
   ]
  },
  {
   "cell_type": "markdown",
   "metadata": {},
   "source": [
    "## Pitch Names\n",
    "\n",
    "Composers and theorists have been naming pitches since about 600 AD! Two systems grew up together and are still with us: letter names (C D E F G A (B)) and solmization (ut re me fa sol la (ti)). Over time, as music became more complex, accidentals appeared as well as octave designators. Today the standard pitch naming system in the US and much of the world is called Scientific Pitch Notation. SPN describes a pitch in terms of a letter name, an optional accidental, and an octave number, where 4 represent the middle-c octave on the keyboard.\n",
    "\n",
    "In MUS105 a *pitch name* will consist of an upper case diatonic letter, an optional sharp or flat symbol, and an octave number\n",
    "\n",
    "In Python, pitch names are just strings that and can be mapped to hertz, midi or pitch class values in a variety of different ways.\n",
    "\n",
    "<table style=\"font-size: larger;\">\n",
    "    <tr><td>Letters:</td><td>'C', 'D', 'E', 'F', 'G', 'A', 'B'</td></tr>\n",
    "    <tr><td>Accidentals:</td><td> 'bb', 'b', '', '#', '##', 'ff', 'f', 's', 'ss'<td></tr>\n",
    "    <tr><td>Octaves:</td><td>'00', '0', '1', '2', '3', '4', '5', '6', '7', '8', '9'</td></tr>\n",
    "<table>"
   ]
  },
  {
   "cell_type": "code",
   "execution_count": null,
   "metadata": {},
   "outputs": [],
   "source": [
    "# Here is a list comprehension that creates one octave of pitch names (it omits double sharps and flats).\n",
    "\n",
    "[l+a+str(o) for o in range(4,5)\n",
    "            for l in ['C', 'D', 'E', 'F', 'G', 'A', 'B']\\\n",
    "            for a in ['b', '', '#'] ]"
   ]
  },
  {
   "cell_type": "markdown",
   "metadata": {},
   "source": [
    "## Converting MIDI to Pitch Names\n",
    "\n",
    "To convert a midi key number into a pitch name you map the integer into three different strings: a pitch letter, an accidental and an octave number. The easiest way to map an integer to a string is to use a list or a dictionary. For a list (see above) you use the integer as an *index* into the list of strings. If you use a dictionary, each key could be an integer and the pitch name string would be its associated value in the dictionary. \n",
    "\n",
    "Note, however, that because of enharmonic pitch spellings, a given key number can be mapped to two or three different pitch spellings. For example, key number 61 maps to 'B##3', 'C#4, and 'Db4'.  To return a pitch name, then, really requires the code to determine *which* pitch name to return.  One solution might to return the \"simplest\" spelling, e.g. a spelling that prefers natural over a single sharp or flat (and never choosing double sharps or flats) and using the spelling that comes from the earliest key signature in which that spelling first appears. Using this logic, key number 61 would map to 'C#4' because the 'C#' first occurs in a key signature with 2 sharps whereas the 'Db' spelling first appears in a signature with 4 flats. A more flexible solution would be to return the \"simplest\" accidental as a default but to allow the user to override it, and signal an error if user's choice cannot be satisfied (for example, asking for key number 61 to be spelled as a double flat.)"
   ]
  },
  {
   "cell_type": "markdown",
   "metadata": {},
   "source": [
    "## Converting Pitch Names to MIDI\n",
    "\n",
    "To convert a pitch name into a midi key number, perform reverse mapping. For each pitch name, determine its letter, accidental an octave, and then use these as keys to look up numerical values that you combine into MIDI note. Another solution would be to create a single large dictionary that contains all possible pitches as keys and their midi key numbers as values."
   ]
  },
  {
   "cell_type": "markdown",
   "metadata": {},
   "source": [
    "## In-Class Pitch Project\n",
    "\n",
    "Define a function `pitch_data(knum1, knum2)` that returns a list of tuples containing pitch information for each midi key number in the range knum1 to knum2 inclusive.  Each tuple contains the following pitch information:\n",
    "\n",
    "<div style=\"font-family: monospace, font-size: smaller\"><br/>\n",
    "    (<span style=\"font-style:italic\">pitch_name, keynum, pitch_class, hertz</span>)</div>\n",
    "\n",
    "Note that each keynum adds several tuples, one for each of the possible enharmonic pitch names of that knum. For example, keynum 60 would add these tuples to the list:\n",
    "\n",
    "<div style=\"font-family: monospace, font-size: smaller\"><br/>('B#3', 60, 0, 261.626), ('C4', 60, 0, 261.626), ('Dbb4', 60, 0, 261.626)</div>\n",
    "\n",
    "In addition to the main function pitch_data() you are free to define auxilliary functions and data as needed.\n",
    "\n",
    "<!--\n",
    "octave_names = ['00', '0', '1', '2', '3', '4', '5', '6', '7', '8', '9']\n",
    "\n",
    "enharmonic_names =  [\n",
    "    ['B#',  'C',  'Dbb'],\n",
    "    ['B##', 'C#', 'Db'],\n",
    "    ['C##', 'D',  'Ebb'],\n",
    "    ['D#',  'Eb', 'Fbb'],\n",
    "    ['D##', 'E',  'Fb'],\n",
    "    ['E#',  'F',  'Gbb'],\n",
    "    ['E##', 'F#', 'Gb'],\n",
    "    ['F##', 'G',  'Abb'],\n",
    "    ['G#',  'Ab'],\n",
    "    ['G##', 'A',  'Bbb'],\n",
    "    ['A#',  'Bb', 'Cbb'],\n",
    "    ['A##', 'B',  'Cb']\n",
    "]\n",
    "\n",
    "def octname(pc_name, octave):\n",
    "    # octave numbers change on C, so enharmonics for C need to\n",
    "    # be included in the previous octave and enharmonics for B need\n",
    "    # to be included in the octave above\n",
    "    if pc_name in ['B#', 'B##']:\n",
    "        return octave_names[octave - 1]\n",
    "    elif pc_name in ['Cb', 'Cbb']:\n",
    "        return octave_names[octave + 1]\n",
    "    else:\n",
    "        return octave_names[octave]\n",
    "\n",
    "def hertz(keynum):\n",
    "   return round(440*2**((keynum-69)/12), 3)\n",
    "\n",
    "# create a list of tuples (pitch, keynum, octave, hertz)\n",
    "[(n+octname(n, k//12), k, k%12, hertz(k)) \n",
    " for k in range(60,73) for n in enharmonic_names[k%12]]\n",
    "-->"
   ]
  },
  {
   "cell_type": "code",
   "execution_count": null,
   "metadata": {},
   "outputs": [],
   "source": []
  }
 ],
 "metadata": {
  "kernelspec": {
   "display_name": "venv305",
   "language": "python",
   "name": "venv305"
  },
  "language_info": {
   "codemirror_mode": {
    "name": "ipython",
    "version": 3
   },
   "file_extension": ".py",
   "mimetype": "text/x-python",
   "name": "python",
   "nbconvert_exporter": "python",
   "pygments_lexer": "ipython3",
   "version": "3.9.5"
  }
 },
 "nbformat": 4,
 "nbformat_minor": 2
}
