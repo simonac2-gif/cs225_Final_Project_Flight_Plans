{
 "cells": [
  {
   "cell_type": "markdown",
   "metadata": {},
   "source": [
    "# Variables & Types, Basic Operators"
   ]
  },
  {
   "cell_type": "markdown",
   "metadata": {},
   "source": [
    "This tutorial introduces the basic building blocks of programming: variables, data types, and basic operations on data.  Variables are used to store information (data) in programs.  Important Python data types include integers, floats, strings, booleans, lists, tuples, dictionaries and sets.  "
   ]
  },
  {
   "cell_type": "markdown",
   "metadata": {},
   "source": [
    "## Integers & Floats"
   ]
  },
  {
   "cell_type": "code",
   "execution_count": 1,
   "metadata": {},
   "outputs": [
    {
     "name": "stdout",
     "output_type": "stream",
     "text": [
      "60 261.63\n",
      "<class 'int'> <class 'float'>\n"
     ]
    }
   ],
   "source": [
    "# Variable declaration in python: no 'variable typing' needed!\n",
    "c4_midi = 60\n",
    "c4_freq = 261.63\n",
    "\n",
    "# the type() function is built in, and shows you what type a variable has\n",
    "print( c4_midi, c4_freq )\n",
    "print( type(c4_midi), type(c4_freq) )\n"
   ]
  },
  {
   "cell_type": "markdown",
   "metadata": {},
   "source": [
    "After running the code above, referencing c4_midi, or c4_freq will get us the values we just assigned to them. Unlike other languages, you don't have control over the variable's type at all, its type is determined by the data it holds.\n",
    "Another way of saying this is: In Python *data* is typed, not variables. A variable can completely change it type when you assign it different data."
   ]
  },
  {
   "cell_type": "code",
   "execution_count": 9,
   "metadata": {},
   "outputs": [
    {
     "name": "stdout",
     "output_type": "stream",
     "text": [
      "69 440.00745824565865\n",
      "<class 'int'> <class 'float'>\n"
     ]
    }
   ],
   "source": [
    "a4_midi = c4_midi + 9\n",
    "\n",
    "# exponent: **\n",
    "a4_freq = c4_freq * ( 2 ** (9 / 12) )\n",
    "\n",
    "print(a4_midi, a4_freq)\n",
    "print ( type(a4_midi), type(a4_freq) )"
   ]
  },
  {
   "cell_type": "markdown",
   "metadata": {},
   "source": [
    "### Basic Operators\n",
    "Programs can manipulate data using python's *buit in* math operators:\n",
    "\n",
    "<dl>\n",
    "<dt style=\"font-size:larger;\">+, -, /, %</dt>\n",
    "<dd>addition, subtaction, division, modulus</dd></dl>\n",
    "<dt style=\"font-size:larger;\">+=, -=, /=, %/</dt>\n",
    "<dd> The incrementing operators. For example, a += 1 is equivalent to a = a + 1. Note that python does not support ++ or -- .</dd>\n",
    "<dt style=\"font-size:larger;\">**</dt>\n",
    "<dd>Exponentiation. This operator supports fractional exponents in addition to integers</dd>\n",
    "</dl>\n",
    "\n",
    "A number of these basic operators work on other types too! We will come back to this a little later in this notebook.\n",
    "    \n",
    "### Converting to and from int\n",
    "Sometimes, something should be an int, but comes in as another type, like a string. It might also be in a different base, for example as a hex or binary number."
   ]
  },
  {
   "cell_type": "code",
   "execution_count": 18,
   "metadata": {},
   "outputs": [
    {
     "name": "stdout",
     "output_type": "stream",
     "text": [
      "60 <class 'int'>\n"
     ]
    }
   ],
   "source": [
    "# string to integer\n",
    "c4_midi_str = '60'\n",
    "c4_midi = int(c4_midi_str)\n",
    "print(c4_midi, type(c4_midi))"
   ]
  },
  {
   "cell_type": "code",
   "execution_count": 11,
   "metadata": {},
   "outputs": [
    {
     "name": "stdout",
     "output_type": "stream",
     "text": [
      "0b111100 0x3c 0o74 <class 'str'>\n"
     ]
    }
   ],
   "source": [
    "# can convert to other bases\n",
    "# note the type of the output: str\n",
    "c4_midi_bin = bin(c4_midi)\n",
    "c4_midi_hex = hex(c4_midi)\n",
    "c4_midi_oct = oct(c4_midi)\n",
    "print(c4_midi_bin, c4_midi_hex, c4_midi_oct, type(c4_midi_bin))"
   ]
  },
  {
   "cell_type": "code",
   "execution_count": 12,
   "metadata": {},
   "outputs": [
    {
     "name": "stdout",
     "output_type": "stream",
     "text": [
      "60 <class 'int'>\n",
      "60 <class 'int'>\n",
      "60 <class 'int'>\n"
     ]
    }
   ],
   "source": [
    "# int casting can take second parameter! we cast from base 2 instead of \n",
    "# base 10, or really whatever base we feel like :O\n",
    "c4_midi = int(c4_midi_bin, 2)\n",
    "print(c4_midi, type(c4_midi))\n",
    "\n",
    "c4_midi = int(c4_midi_hex, 16)\n",
    "print(c4_midi, type(c4_midi))\n",
    "\n",
    "c4_midi = int(c4_midi_oct, 8)\n",
    "print(c4_midi, type(c4_midi))"
   ]
  },
  {
   "cell_type": "markdown",
   "metadata": {},
   "source": [
    "## Strings\n",
    "In Python (and many other languages) strings are how text is stored."
   ]
  },
  {
   "cell_type": "code",
   "execution_count": 13,
   "metadata": {},
   "outputs": [
    {
     "name": "stdout",
     "output_type": "stream",
     "text": [
      "c4 is middle C on the keyboard! This is yet another string. Me too!\n"
     ]
    }
   ],
   "source": [
    "# string type: can use single quotes, or double quotes, or even triple-quotes! (more about this later)\n",
    "c4_name = 'c4'\n",
    "\n",
    "my_string = \"c4 is middle C on the keyboard!\"\n",
    "\n",
    "my_other_string = \"\"\"This is yet another string.\"\"\"\n",
    "\n",
    "my_other_other_string = '''Me too!'''\n",
    "\n",
    "print(my_string, my_other_string, my_other_other_string)"
   ]
  },
  {
   "cell_type": "markdown",
   "metadata": {},
   "source": [
    "#### Python strings are immutable\n",
    "\n",
    "In Python, strings are *immutable*, meaning that once created a string cannot be altered. This may seem restrictive to those familiar with languages that allow you to alter strings but there are good reasons that Python does it. In particular, strings can be used as hash keys for fast lookup (more about this later)."
   ]
  },
  {
   "cell_type": "code",
   "execution_count": 20,
   "metadata": {},
   "outputs": [
    {
     "name": "stdout",
     "output_type": "stream",
     "text": [
      "4 <class 'str'>\n"
     ]
    }
   ],
   "source": [
    "# If you access a position in a string  you get another string, not a 'char'\n",
    "\n",
    "print(c4_name[1], type(c4_name[1]))"
   ]
  },
  {
   "cell_type": "code",
   "execution_count": 15,
   "metadata": {},
   "outputs": [
    {
     "ename": "TypeError",
     "evalue": "'str' object does not support item assignment",
     "output_type": "error",
     "traceback": [
      "\u001b[0;31m---------------------------------------------------------------------------\u001b[0m",
      "\u001b[0;31mTypeError\u001b[0m                                 Traceback (most recent call last)",
      "\u001b[0;32m/var/folders/97/9bgvfdp13jv4mkpmf64yvwfh0000gn/T/ipykernel_19151/268725002.py\u001b[0m in \u001b[0;36m<module>\u001b[0;34m\u001b[0m\n\u001b[1;32m      1\u001b[0m \u001b[0;31m# If you try to alter a position in a string you will fail.\u001b[0m\u001b[0;34m\u001b[0m\u001b[0;34m\u001b[0m\u001b[0;34m\u001b[0m\u001b[0m\n\u001b[1;32m      2\u001b[0m \u001b[0;34m\u001b[0m\u001b[0m\n\u001b[0;32m----> 3\u001b[0;31m \u001b[0mc4_name\u001b[0m\u001b[0;34m[\u001b[0m\u001b[0;36m1\u001b[0m\u001b[0;34m]\u001b[0m \u001b[0;34m=\u001b[0m \u001b[0;34m'X'\u001b[0m\u001b[0;34m\u001b[0m\u001b[0;34m\u001b[0m\u001b[0m\n\u001b[0m",
      "\u001b[0;31mTypeError\u001b[0m: 'str' object does not support item assignment"
     ]
    }
   ],
   "source": [
    "# If you try to alter a position in a string you will fail.\n",
    "\n",
    "c4_name[1] = 'X'"
   ]
  },
  {
   "cell_type": "markdown",
   "metadata": {},
   "source": [
    "### Some Interesting and Useful String Functions"
   ]
  },
  {
   "cell_type": "code",
   "execution_count": 23,
   "metadata": {},
   "outputs": [],
   "source": [
    "some_sentence = \"hello world, foobar\""
   ]
  },
  {
   "cell_type": "code",
   "execution_count": 24,
   "metadata": {},
   "outputs": [
    {
     "data": {
      "text/plain": [
       "6"
      ]
     },
     "execution_count": 24,
     "metadata": {},
     "output_type": "execute_result"
    }
   ],
   "source": [
    "# gets the index of the first occurence of the substring, or -1 if not\n",
    "# present\n",
    "some_sentence.index(\"world\")"
   ]
  },
  {
   "cell_type": "code",
   "execution_count": 21,
   "metadata": {},
   "outputs": [
    {
     "name": "stdout",
     "output_type": "stream",
     "text": [
      "['0', '1', '2', '3', '4', '5', '6', '7', '8', '9']\n"
     ]
    }
   ],
   "source": [
    "num_list = [str(i) for i in range(10)]\n",
    "\n",
    "# uses the string as a separator for joining elements of a list\n",
    "# (we'll talk about lists in a second)\n",
    "', '.join(num_list)\n",
    "print(num_list)"
   ]
  },
  {
   "cell_type": "markdown",
   "metadata": {},
   "source": [
    "There are lots of string functions in Python so before createing a new one its best to look up whether or not a function already exists to do what you want!\n",
    "\n",
    "<!-- here's a list of string functions: https://www.programiz.com/python-programming/methods/string -->\n",
    "\n",
    "Here is a list of string functions: https://www.digitalocean.com/community/tutorials/an-introduction-to-string-functions-in-python-3\n",
    "\n",
    "### What about our basic operators? Do any of them work on strings?"
   ]
  },
  {
   "cell_type": "code",
   "execution_count": null,
   "metadata": {},
   "outputs": [],
   "source": [
    "# try using + - * ** on strings\n",
    "\n",
    "\"foo\" + \"bar\""
   ]
  },
  {
   "cell_type": "markdown",
   "metadata": {},
   "source": [
    "## Boolean"
   ]
  },
  {
   "cell_type": "code",
   "execution_count": 25,
   "metadata": {},
   "outputs": [
    {
     "name": "stdout",
     "output_type": "stream",
     "text": [
      "<class 'bool'> <class 'bool'>\n"
     ]
    }
   ],
   "source": [
    "# Evaluates to True, or False:\n",
    "bool_example = True\n",
    "other_bool = False\n",
    "\n",
    "print( type(bool_example), type(other_bool) )"
   ]
  },
  {
   "cell_type": "code",
   "execution_count": 26,
   "metadata": {},
   "outputs": [
    {
     "name": "stdout",
     "output_type": "stream",
     "text": [
      "True <class 'bool'>\n"
     ]
    }
   ],
   "source": [
    "# Honestly though, simply setting a variable to be True or False is pretty useless\n",
    "# Its much more common for expressions to determine to boolean values:\n",
    "\n",
    "is_c4 = ( c4_midi == 60 )\n",
    "print(is_c4, type(is_c4))"
   ]
  },
  {
   "cell_type": "code",
   "execution_count": 27,
   "metadata": {},
   "outputs": [
    {
     "name": "stdout",
     "output_type": "stream",
     "text": [
      "True <class 'bool'>\n"
     ]
    }
   ],
   "source": [
    "sanity_check = ( c4_midi < a4_midi )\n",
    "print(sanity_check, type(sanity_check))"
   ]
  },
  {
   "cell_type": "code",
   "execution_count": null,
   "metadata": {},
   "outputs": [],
   "source": []
  },
  {
   "cell_type": "markdown",
   "metadata": {},
   "source": [
    "The operators \\<, \\>, \\== , \\<=, \\>= act on certain data types in prefined ways.  Later, when we define custom classes, you will redefine these operators yourself!"
   ]
  },
  {
   "cell_type": "code",
   "execution_count": 30,
   "metadata": {},
   "outputs": [
    {
     "name": "stdout",
     "output_type": "stream",
     "text": [
      "True\n"
     ]
    }
   ],
   "source": [
    "print( 'A' < 'C' )"
   ]
  },
  {
   "cell_type": "code",
   "execution_count": null,
   "metadata": {},
   "outputs": [],
   "source": []
  },
  {
   "cell_type": "code",
   "execution_count": null,
   "metadata": {},
   "outputs": [],
   "source": []
  },
  {
   "cell_type": "markdown",
   "metadata": {},
   "source": [
    "Comparators are pretty common examples of operators yielding booleans, but what are some other values that can be converted to bools?"
   ]
  },
  {
   "cell_type": "code",
   "execution_count": 31,
   "metadata": {},
   "outputs": [
    {
     "name": "stdout",
     "output_type": "stream",
     "text": [
      "Zero as boolean: False\n",
      "One as boolean: True\n"
     ]
    }
   ],
   "source": [
    "print(\"Zero as boolean:\", bool(0))\n",
    "print(\"One as boolean:\", bool(1))"
   ]
  },
  {
   "cell_type": "code",
   "execution_count": 32,
   "metadata": {},
   "outputs": [
    {
     "name": "stdout",
     "output_type": "stream",
     "text": [
      "Empty String as bool: False\n",
      "Not empty string as bool: True\n"
     ]
    }
   ],
   "source": [
    "print(\"Empty String as bool:\", bool(\"\"))\n",
    "print(\"Not empty string as bool:\", bool(\" \"))"
   ]
  },
  {
   "cell_type": "code",
   "execution_count": 33,
   "metadata": {},
   "outputs": [
    {
     "name": "stdout",
     "output_type": "stream",
     "text": [
      "Empty list as bool: False\n",
      "Not empty list as bool: True\n"
     ]
    }
   ],
   "source": [
    "print(\"Empty list as bool:\", bool([]))\n",
    "print(\"Not empty list as bool:\", bool([1,2]))"
   ]
  },
  {
   "cell_type": "code",
   "execution_count": 34,
   "metadata": {},
   "outputs": [
    {
     "name": "stdout",
     "output_type": "stream",
     "text": [
      "Nonetype as bool: False\n"
     ]
    }
   ],
   "source": [
    "print(\"Nonetype as bool:\", bool(None))"
   ]
  },
  {
   "cell_type": "markdown",
   "metadata": {},
   "source": [
    "## Lists & Tuples\n",
    "A lot of times, we want to group data together. This is where Python lists come into play! A list is exactly what it sounds like -- a sequence of values, where we can pull out individual elements, and add new ones as we please. \n",
    "\n",
    "Tuples are very similar to lists, in that they hold multiple values. We'll discuss the differences below"
   ]
  },
  {
   "cell_type": "code",
   "execution_count": 35,
   "metadata": {},
   "outputs": [
    {
     "name": "stdout",
     "output_type": "stream",
     "text": [
      "['c', 'e', 'g'] <class 'list'>\n"
     ]
    }
   ],
   "source": [
    "# Construct a list with square brackets\n",
    "c_maj = ['c', 'e', 'g']\n",
    "print(c_maj, type(c_maj))"
   ]
  },
  {
   "cell_type": "code",
   "execution_count": null,
   "metadata": {},
   "outputs": [],
   "source": []
  },
  {
   "cell_type": "code",
   "execution_count": 36,
   "metadata": {},
   "outputs": [
    {
     "name": "stdout",
     "output_type": "stream",
     "text": [
      "('c', 'e', 'g') <class 'tuple'>\n"
     ]
    }
   ],
   "source": [
    "# Construct a tuple with parentheses\n",
    "c_maj_tuple = ('c', 'e', 'g')\n",
    "print(c_maj_tuple, type(c_maj_tuple))"
   ]
  },
  {
   "cell_type": "code",
   "execution_count": null,
   "metadata": {},
   "outputs": [],
   "source": []
  },
  {
   "cell_type": "code",
   "execution_count": 37,
   "metadata": {},
   "outputs": [
    {
     "name": "stdout",
     "output_type": "stream",
     "text": [
      "(10, 11) (-99,)\n"
     ]
    }
   ],
   "source": [
    "# Important: a tuple is really defined by commas ',', not the parens '()'\n",
    "x = 10,11\n",
    "\n",
    "# It is possible to create a tuple of one element like this:\n",
    "y = -99,\n",
    "\n",
    "print(x, y)"
   ]
  },
  {
   "cell_type": "code",
   "execution_count": 38,
   "metadata": {},
   "outputs": [
    {
     "name": "stdout",
     "output_type": "stream",
     "text": [
      "3 3\n"
     ]
    }
   ],
   "source": [
    "# The len() function gets the list of each object:\n",
    "print(len(c_maj), len(c_maj_tuple))"
   ]
  },
  {
   "cell_type": "code",
   "execution_count": 41,
   "metadata": {},
   "outputs": [
    {
     "name": "stdout",
     "output_type": "stream",
     "text": [
      "g g\n"
     ]
    }
   ],
   "source": [
    "# Lists and tuples can be indexed, similar to arrays in other languages\n",
    "# Recall \n",
    "print(c_maj[2], c_maj_tuple[2])"
   ]
  },
  {
   "cell_type": "code",
   "execution_count": null,
   "metadata": {},
   "outputs": [],
   "source": []
  },
  {
   "cell_type": "code",
   "execution_count": null,
   "metadata": {},
   "outputs": [],
   "source": []
  },
  {
   "cell_type": "code",
   "execution_count": null,
   "metadata": {},
   "outputs": [],
   "source": []
  },
  {
   "cell_type": "code",
   "execution_count": 46,
   "metadata": {},
   "outputs": [
    {
     "ename": "IndexError",
     "evalue": "list index out of range",
     "output_type": "error",
     "traceback": [
      "\u001b[0;31m---------------------------------------------------------------------------\u001b[0m",
      "\u001b[0;31mIndexError\u001b[0m                                Traceback (most recent call last)",
      "\u001b[0;32m/var/folders/97/9bgvfdp13jv4mkpmf64yvwfh0000gn/T/ipykernel_19151/239573059.py\u001b[0m in \u001b[0;36m<module>\u001b[0;34m\u001b[0m\n\u001b[1;32m      1\u001b[0m \u001b[0;31m# make sure not to reach outside the list, or you'll get an error\u001b[0m\u001b[0;34m\u001b[0m\u001b[0;34m\u001b[0m\u001b[0;34m\u001b[0m\u001b[0m\n\u001b[0;32m----> 2\u001b[0;31m \u001b[0mprint\u001b[0m\u001b[0;34m(\u001b[0m\u001b[0mc_maj\u001b[0m\u001b[0;34m[\u001b[0m\u001b[0;36m3\u001b[0m\u001b[0;34m]\u001b[0m\u001b[0;34m)\u001b[0m\u001b[0;34m\u001b[0m\u001b[0;34m\u001b[0m\u001b[0m\n\u001b[0m",
      "\u001b[0;31mIndexError\u001b[0m: list index out of range"
     ]
    }
   ],
   "source": [
    "# make sure not to reach outside the list, or you'll get an error\n",
    "print(c_maj[3])"
   ]
  },
  {
   "cell_type": "code",
   "execution_count": 47,
   "metadata": {},
   "outputs": [
    {
     "name": "stdout",
     "output_type": "stream",
     "text": [
      "[1, 'one', (1, 1), 261.63]\n",
      "(1, 'one', [1, 1], 261.63)\n"
     ]
    }
   ],
   "source": [
    "# Can have different types of objects in the same array/tuple\n",
    "weird_jagged_list = [1, 'one', (1,1), c4_freq]\n",
    "weird_jagged_tuple = (1, 'one', [1,1], c4_freq)\n",
    "print(weird_jagged_list)\n",
    "print(weird_jagged_tuple)"
   ]
  },
  {
   "cell_type": "markdown",
   "metadata": {},
   "source": [
    "### What's the big deal? Why do we have lists and tuples? Are they the same?\n",
    "All the functions shown above work for both...so who cares about square brackets vs. parentheses..."
   ]
  },
  {
   "cell_type": "code",
   "execution_count": 50,
   "metadata": {},
   "outputs": [
    {
     "name": "stdout",
     "output_type": "stream",
     "text": [
      "[1, 2, 3, 15, 5]\n"
     ]
    }
   ],
   "source": [
    "my_list = [1,2,3,4,5]\n",
    "my_list[3] = 15\n",
    "print(my_list)"
   ]
  },
  {
   "cell_type": "code",
   "execution_count": null,
   "metadata": {},
   "outputs": [],
   "source": [
    "my_tuple = (1,2,3,4,5)\n",
    "my_tuple[3] = 15\n",
    "print(my_tuple)"
   ]
  },
  {
   "cell_type": "markdown",
   "metadata": {},
   "source": [
    "### Whoops! What happened?\n",
    "\n",
    "When trying to assign a value to a tuple...we failed!  This is because tuples are **immutable**, which means after they are created, they can *NEVER* be changed again. Why would we ever want this to be the case? We will see, when dealing with dictionaries and sets, that this may be useful!\n",
    "  \n",
    "So remember: Lists can change, Tuples cannot change.\n",
    "  \n",
    "Let's look at some functions we can use to modify lists."
   ]
  },
  {
   "cell_type": "code",
   "execution_count": 52,
   "metadata": {},
   "outputs": [
    {
     "name": "stdout",
     "output_type": "stream",
     "text": [
      "[1, 2, 3, 15, 5, 6]\n"
     ]
    }
   ],
   "source": [
    "print(my_list)"
   ]
  },
  {
   "cell_type": "code",
   "execution_count": 51,
   "metadata": {},
   "outputs": [
    {
     "name": "stdout",
     "output_type": "stream",
     "text": [
      "[1, 2, 3, 15, 5, 6]\n"
     ]
    }
   ],
   "source": [
    "# append() takes an element, and adds it to the end of the list\n",
    "my_list.append(6)\n",
    "print(my_list)"
   ]
  },
  {
   "cell_type": "code",
   "execution_count": null,
   "metadata": {},
   "outputs": [],
   "source": []
  },
  {
   "cell_type": "code",
   "execution_count": 53,
   "metadata": {},
   "outputs": [
    {
     "ename": "NameError",
     "evalue": "name 'my_tuple' is not defined",
     "output_type": "error",
     "traceback": [
      "\u001b[0;31m---------------------------------------------------------------------------\u001b[0m",
      "\u001b[0;31mNameError\u001b[0m                                 Traceback (most recent call last)",
      "\u001b[0;32m/var/folders/97/9bgvfdp13jv4mkpmf64yvwfh0000gn/T/ipykernel_19151/4155258775.py\u001b[0m in \u001b[0;36m<module>\u001b[0;34m\u001b[0m\n\u001b[1;32m      1\u001b[0m \u001b[0;31m# extend() takes and iterable (for our sake just a list, or tuple)\u001b[0m\u001b[0;34m\u001b[0m\u001b[0;34m\u001b[0m\u001b[0;34m\u001b[0m\u001b[0m\n\u001b[1;32m      2\u001b[0m \u001b[0;31m# and appends all its values to the end of the list\u001b[0m\u001b[0;34m\u001b[0m\u001b[0;34m\u001b[0m\u001b[0;34m\u001b[0m\u001b[0m\n\u001b[0;32m----> 3\u001b[0;31m \u001b[0mmy_list\u001b[0m\u001b[0;34m.\u001b[0m\u001b[0mextend\u001b[0m\u001b[0;34m(\u001b[0m\u001b[0mmy_tuple\u001b[0m\u001b[0;34m)\u001b[0m\u001b[0;34m\u001b[0m\u001b[0;34m\u001b[0m\u001b[0m\n\u001b[0m\u001b[1;32m      4\u001b[0m \u001b[0mprint\u001b[0m\u001b[0;34m(\u001b[0m\u001b[0mmy_list\u001b[0m\u001b[0;34m)\u001b[0m\u001b[0;34m\u001b[0m\u001b[0;34m\u001b[0m\u001b[0m\n",
      "\u001b[0;31mNameError\u001b[0m: name 'my_tuple' is not defined"
     ]
    }
   ],
   "source": [
    "# extend() takes and iterable (for our sake just a list, or tuple)\n",
    "# and appends all its values to the end of the list\n",
    "my_list.extend(my_tuple)\n",
    "print(my_list)"
   ]
  },
  {
   "cell_type": "code",
   "execution_count": 54,
   "metadata": {},
   "outputs": [
    {
     "ename": "NameError",
     "evalue": "name 'my_tuple' is not defined",
     "output_type": "error",
     "traceback": [
      "\u001b[0;31m---------------------------------------------------------------------------\u001b[0m",
      "\u001b[0;31mNameError\u001b[0m                                 Traceback (most recent call last)",
      "\u001b[0;32m/var/folders/97/9bgvfdp13jv4mkpmf64yvwfh0000gn/T/ipykernel_19151/3407980028.py\u001b[0m in \u001b[0;36m<module>\u001b[0;34m\u001b[0m\n\u001b[1;32m      1\u001b[0m \u001b[0;31m# What happens if we use .append for an iterable?\u001b[0m\u001b[0;34m\u001b[0m\u001b[0;34m\u001b[0m\u001b[0;34m\u001b[0m\u001b[0m\n\u001b[0;32m----> 2\u001b[0;31m \u001b[0mmy_list\u001b[0m\u001b[0;34m.\u001b[0m\u001b[0mappend\u001b[0m\u001b[0;34m(\u001b[0m\u001b[0mmy_tuple\u001b[0m\u001b[0;34m)\u001b[0m\u001b[0;34m\u001b[0m\u001b[0;34m\u001b[0m\u001b[0m\n\u001b[0m\u001b[1;32m      3\u001b[0m \u001b[0mprint\u001b[0m\u001b[0;34m(\u001b[0m\u001b[0mmy_list\u001b[0m\u001b[0;34m)\u001b[0m\u001b[0;34m\u001b[0m\u001b[0;34m\u001b[0m\u001b[0m\n",
      "\u001b[0;31mNameError\u001b[0m: name 'my_tuple' is not defined"
     ]
    }
   ],
   "source": [
    "# What happens if we use .append for an iterable?\n",
    "my_list.append(my_tuple)\n",
    "print(my_list)"
   ]
  },
  {
   "cell_type": "code",
   "execution_count": null,
   "metadata": {},
   "outputs": [],
   "source": [
    "# pop() removes the last element from a list, an optional parameter can\n",
    "# denote which index to remove\n",
    "my_list.pop()\n",
    "print(my_list)"
   ]
  },
  {
   "cell_type": "markdown",
   "metadata": {},
   "source": [
    "There are quite a few list functions, and you probably won't remember them all. When in need, this documentation has you covered:\n",
    "  \n",
    "https://docs.python.org/3/tutorial/datastructures.html\n",
    "  \n",
    "This link has information about all the data structures talked about for the rest of this notebook."
   ]
  },
  {
   "cell_type": "markdown",
   "metadata": {},
   "source": [
    "  \n",
    "### List Slicing\n",
    "*List slicing* allows us to access chunks of a list, or iterate through a list in interesting ways. A slice is written using a multi-valued index: [*start*, *end*, *increment*]."
   ]
  },
  {
   "cell_type": "code",
   "execution_count": 55,
   "metadata": {},
   "outputs": [
    {
     "name": "stdout",
     "output_type": "stream",
     "text": [
      "['a', 'b', 'c', 'd', 'e', 'f', 'g', 'h', 'i', 'j'] 10\n"
     ]
    }
   ],
   "source": [
    "# Print a list\n",
    "my_list = ['a','b','c','d','e','f','g','h','i','j']\n",
    "print(my_list, len(my_list))"
   ]
  },
  {
   "cell_type": "code",
   "execution_count": 56,
   "metadata": {},
   "outputs": [
    {
     "name": "stdout",
     "output_type": "stream",
     "text": [
      "a\n"
     ]
    }
   ],
   "source": [
    "# Access the first list value using a single index  [0]\n",
    "print(my_list[0])"
   ]
  },
  {
   "cell_type": "code",
   "execution_count": 57,
   "metadata": {},
   "outputs": [
    {
     "name": "stdout",
     "output_type": "stream",
     "text": [
      "['a', 'b', 'c', 'd']\n"
     ]
    }
   ],
   "source": [
    "# Access the first four values using a slice index [0:4]\n",
    "first_four = my_list[0:4]\n",
    "print(first_four)"
   ]
  },
  {
   "cell_type": "code",
   "execution_count": null,
   "metadata": {},
   "outputs": [],
   "source": [
    "# If the slice starts at position 0 then we dont need to explicity provide 0 for the start:\n",
    "first_four = my_list[:4]\n",
    "print(first_four)"
   ]
  },
  {
   "cell_type": "code",
   "execution_count": 58,
   "metadata": {},
   "outputs": [
    {
     "name": "stdout",
     "output_type": "stream",
     "text": [
      "j\n"
     ]
    }
   ],
   "source": [
    "# Use negative indexes to specifiy location relative to the *end* of the list ;)\n",
    "print(my_list[-1])\n"
   ]
  },
  {
   "cell_type": "code",
   "execution_count": 59,
   "metadata": {},
   "outputs": [
    {
     "name": "stdout",
     "output_type": "stream",
     "text": [
      "['g', 'h', 'i', 'j']\n"
     ]
    }
   ],
   "source": [
    "# Same idea works for slicing!!  This next slice [-4:] says: start at the 4th element from the\n",
    "# end of the list and take everything to the end of the list. ;)\n",
    "last_four = my_list[-4:]\n",
    "print(last_four)"
   ]
  },
  {
   "cell_type": "code",
   "execution_count": 60,
   "metadata": {},
   "outputs": [
    {
     "name": "stdout",
     "output_type": "stream",
     "text": [
      "['a', 'c']\n"
     ]
    }
   ],
   "source": [
    "# We can add another : to the slice to specify how we *iterate* through the slice\n",
    "# Example: every other element, of the first four\n",
    "print(my_list[:4:2])"
   ]
  },
  {
   "cell_type": "code",
   "execution_count": 61,
   "metadata": {},
   "outputs": [
    {
     "name": "stdout",
     "output_type": "stream",
     "text": [
      "['g', 'i']\n"
     ]
    }
   ],
   "source": [
    "# Same thing, but starting at the 4th from the end of the list.\n",
    "print(my_list[-4::2])"
   ]
  },
  {
   "cell_type": "code",
   "execution_count": 65,
   "metadata": {},
   "outputs": [
    {
     "name": "stdout",
     "output_type": "stream",
     "text": [
      "['j', 'i', 'h', 'g', 'f', 'e', 'd', 'c', 'b', 'a']\n",
      "['j', 'h', 'f', 'd', 'b']\n"
     ]
    }
   ],
   "source": [
    "# Here is a handy twiddle to remember: to completely reverse a list use negative iteration with defaults.\n",
    "print(my_list[::-1])\n",
    "\n",
    "print(my_list[::-2])"
   ]
  },
  {
   "cell_type": "markdown",
   "metadata": {},
   "source": [
    "## Dictionaries & Sets\n",
    "A dictionary in Python is a list of key-value pairs, with one important property: the keys are hashed\\*, allowing for quick access of elements, but meaning that keys must be **immutable** (so no lists, but tuples are ok). \n",
    "  \n",
    "*Hashing* is a way to access (lookup) values quickly..."
   ]
  },
  {
   "cell_type": "code",
   "execution_count": 66,
   "metadata": {},
   "outputs": [],
   "source": [
    "# Initialize a dict with curly brackets\n",
    "my_dict = {}\n",
    "\n",
    "# Add two key value pair to it\n",
    "my_dict['c4'] = 60\n",
    "my_dict['a4'] = 69\n"
   ]
  },
  {
   "cell_type": "code",
   "execution_count": 67,
   "metadata": {},
   "outputs": [
    {
     "name": "stdout",
     "output_type": "stream",
     "text": [
      "{'c4': 60, 'a4': 69}\n"
     ]
    }
   ],
   "source": [
    "print(my_dict)"
   ]
  },
  {
   "cell_type": "code",
   "execution_count": 68,
   "metadata": {},
   "outputs": [
    {
     "name": "stdout",
     "output_type": "stream",
     "text": [
      "60\n"
     ]
    }
   ],
   "source": [
    "# get the value of the key 'c4' in the dictionary\n",
    "\n",
    "print(my_dict['c4'])"
   ]
  },
  {
   "cell_type": "markdown",
   "metadata": {},
   "source": []
  },
  {
   "cell_type": "code",
   "execution_count": 69,
   "metadata": {},
   "outputs": [
    {
     "ename": "TypeError",
     "evalue": "unhashable type: 'list'",
     "output_type": "error",
     "traceback": [
      "\u001b[0;31m---------------------------------------------------------------------------\u001b[0m",
      "\u001b[0;31mTypeError\u001b[0m                                 Traceback (most recent call last)",
      "\u001b[0;32m/var/folders/97/9bgvfdp13jv4mkpmf64yvwfh0000gn/T/ipykernel_19151/140577240.py\u001b[0m in \u001b[0;36m<module>\u001b[0;34m\u001b[0m\n\u001b[1;32m      1\u001b[0m \u001b[0;31m# Can't use mutable types as keys\u001b[0m\u001b[0;34m\u001b[0m\u001b[0;34m\u001b[0m\u001b[0;34m\u001b[0m\u001b[0m\n\u001b[0;32m----> 2\u001b[0;31m \u001b[0mmy_dict\u001b[0m\u001b[0;34m[\u001b[0m \u001b[0;34m[\u001b[0m\u001b[0;36m1\u001b[0m\u001b[0;34m,\u001b[0m\u001b[0;36m2\u001b[0m\u001b[0;34m]\u001b[0m \u001b[0;34m]\u001b[0m \u001b[0;34m=\u001b[0m \u001b[0;34m\"this is not gonna work\"\u001b[0m\u001b[0;34m\u001b[0m\u001b[0;34m\u001b[0m\u001b[0m\n\u001b[0m",
      "\u001b[0;31mTypeError\u001b[0m: unhashable type: 'list'"
     ]
    }
   ],
   "source": [
    "# Can't use mutable types as keys\n",
    "my_dict[ [1,2] ] = \"this is not gonna work\""
   ]
  },
  {
   "cell_type": "code",
   "execution_count": 70,
   "metadata": {},
   "outputs": [
    {
     "name": "stdout",
     "output_type": "stream",
     "text": [
      "<class 'list'>\n"
     ]
    }
   ],
   "source": [
    "# They can be values though!\n",
    "my_dict['cmaj'] = c_maj\n",
    "\n",
    "print(type(c_maj))"
   ]
  },
  {
   "cell_type": "code",
   "execution_count": null,
   "metadata": {},
   "outputs": [],
   "source": [
    "my_dict"
   ]
  },
  {
   "cell_type": "markdown",
   "metadata": {},
   "source": [
    "## Sets\n",
    "A set is like a dictionary (hashed, quick access, immutable elements) but doesn't have the values, just the keys. A set is meant to be parallel with a mathematical set."
   ]
  },
  {
   "cell_type": "code",
   "execution_count": null,
   "metadata": {},
   "outputs": [],
   "source": [
    "# initialize an empty set with a constructor\n",
    "my_set = set()\n",
    "\n",
    "print(my_set)"
   ]
  },
  {
   "cell_type": "code",
   "execution_count": null,
   "metadata": {},
   "outputs": [],
   "source": [
    "# add a single element to the set\n",
    "my_set.add(1)"
   ]
  },
  {
   "cell_type": "code",
   "execution_count": null,
   "metadata": {},
   "outputs": [],
   "source": [
    "# add an iterable to the set\n",
    "my_set.update([2,3,4,5])"
   ]
  },
  {
   "cell_type": "code",
   "execution_count": null,
   "metadata": {},
   "outputs": [],
   "source": [
    "# notice that the set is denoted by curly braces too, but it only contains keys\n",
    "print(my_set)"
   ]
  },
  {
   "cell_type": "code",
   "execution_count": null,
   "metadata": {},
   "outputs": [],
   "source": [
    "# explicitly define a set with curly braces\n",
    "my_set = {1,2,3,4,5}\n",
    "print(my_set, type(my_set))"
   ]
  },
  {
   "cell_type": "code",
   "execution_count": null,
   "metadata": {},
   "outputs": [],
   "source": [
    "# initialize a set with a list\n",
    "other_set = set(my_list)\n",
    "print(other_set)"
   ]
  },
  {
   "cell_type": "code",
   "execution_count": null,
   "metadata": {},
   "outputs": [],
   "source": [
    "# set intersection. Union exists too, not very interesting for our sets...\n",
    "intersect = my_set.intersection(other_set)\n",
    "print(intersect)"
   ]
  },
  {
   "cell_type": "code",
   "execution_count": null,
   "metadata": {},
   "outputs": [],
   "source": [
    "# disjoint sets: no elements are the same\n",
    "print(my_set.isdisjoint(other_set))"
   ]
  },
  {
   "cell_type": "code",
   "execution_count": null,
   "metadata": {},
   "outputs": [],
   "source": [
    "# subset: this set is contained in another set\n",
    "print(my_set.issubset(other_set))"
   ]
  }
 ],
 "metadata": {
  "kernelspec": {
   "display_name": "Python 3",
   "language": "python",
   "name": "python3"
  },
  "language_info": {
   "codemirror_mode": {
    "name": "ipython",
    "version": 3
   },
   "file_extension": ".py",
   "mimetype": "text/x-python",
   "name": "python",
   "nbconvert_exporter": "python",
   "pygments_lexer": "ipython3",
   "version": "3.7.4"
  }
 },
 "nbformat": 4,
 "nbformat_minor": 2
}
